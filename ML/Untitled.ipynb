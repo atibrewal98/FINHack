{
 "cells": [
  {
   "cell_type": "code",
   "execution_count": 21,
   "metadata": {},
   "outputs": [
    {
     "data": {
      "text/plain": [
       "0"
      ]
     },
     "execution_count": 21,
     "metadata": {},
     "output_type": "execute_result"
    }
   ],
   "source": [
    "def string_balance(brackets):\n",
    "    stack = []\n",
    "    tools = {'(': ')'}\n",
    "    stack.append(brackets[0])\n",
    "    for b in brackets[1:]:\n",
    "        if len(stack) > 0 and tools[stack[len(stack)-1]] == b:\n",
    "            stack = stack[:len(stack)-1]\n",
    "        else:\n",
    "            stack.append(b)\n",
    "    return len(stack)\n",
    "\n",
    "string_balance('((()()))()')"
   ]
  }
 ],
 "metadata": {
  "kernelspec": {
   "display_name": "Python 3",
   "language": "python",
   "name": "python3"
  },
  "language_info": {
   "codemirror_mode": {
    "name": "ipython",
    "version": 3
   },
   "file_extension": ".py",
   "mimetype": "text/x-python",
   "name": "python",
   "nbconvert_exporter": "python",
   "pygments_lexer": "ipython3",
   "version": "3.6.3"
  }
 },
 "nbformat": 4,
 "nbformat_minor": 2
}
