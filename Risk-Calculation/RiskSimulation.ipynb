{
 "cells": [
  {
   "cell_type": "code",
   "execution_count": 8,
   "metadata": {},
   "outputs": [],
   "source": [
    "import pandas as pd\n",
    "import random"
   ]
  },
  {
   "cell_type": "code",
   "execution_count": 188,
   "metadata": {},
   "outputs": [],
   "source": [
    "minGetback = [0.4, 0.5, 0.6, 0.8, 0.85]\n",
    "riskDivision = [0.2, 0.4, 0.6, 0.8, 1.0]\n",
    "numDiv = [31, 25, 20, 15, 9]\n",
    "threshold= [2400, 7000, 11500, 26000, 34000]\n",
    "cover = 45000\n",
    "years = 5"
   ]
  },
  {
   "cell_type": "code",
   "execution_count": 375,
   "metadata": {},
   "outputs": [],
   "source": [
    "c = 31\n",
    "c1 = 0\n",
    "vals2 = []\n",
    "for x in range(1, 101):\n",
    "    if(x > c):\n",
    "        c1 = c1 +  1\n",
    "        c+=numDiv[c1]\n",
    "    vals2.append([c1+1, random.uniform(threshold[c1] - 1000, threshold[c1] + 1000)])"
   ]
  },
  {
   "cell_type": "code",
   "execution_count": 376,
   "metadata": {},
   "outputs": [
    {
     "name": "stdout",
     "output_type": "stream",
     "text": [
      "[[1, 3023.3554735145453], [1, 1447.6470837242634], [1, 2490.956753625177], [1, 1798.9943645231208], [1, 1493.7093086391972], [1, 2349.67965231258], [1, 2717.7427170036954], [1, 1974.2393193746652], [1, 2338.5804404411047], [1, 1455.1240114833556], [1, 2188.58899060925], [1, 1659.8063646889648], [1, 1629.4386607886563], [1, 1673.3756660350014], [1, 2345.442849383774], [1, 3295.864885189703], [1, 1700.9571376174263], [1, 1452.2659677849401], [1, 1580.7519497600063], [1, 2359.0098293671845], [1, 2711.368696714757], [1, 3172.8813128431293], [1, 1637.0463781181295], [1, 2860.429618183054], [1, 1866.6312862984782], [1, 2731.2773981673904], [1, 2037.6535485921113], [1, 2052.440114850806], [1, 2574.833492871408], [1, 2337.0477914556936], [1, 3056.763116401493], [2, 7635.302035374298], [2, 7383.5571559825885], [2, 7914.800377906554], [2, 6878.823993865581], [2, 6453.29231319356], [2, 7209.607937511619], [2, 7998.296100739293], [2, 7004.153890073259], [2, 7165.446405167713], [2, 7958.4413175569825], [2, 6172.5189569479935], [2, 6470.829740117575], [2, 7374.498268713926], [2, 7070.559002672893], [2, 6437.254548716923], [2, 7981.413452575149], [2, 7410.643738110355], [2, 7826.886113104617], [2, 6862.098188344435], [2, 7660.113331432896], [2, 7870.600320828636], [2, 6112.010720793055], [2, 6520.179558463942], [2, 7292.524111037364], [2, 6928.8747056131], [3, 11564.068501175161], [3, 11317.823209428221], [3, 11316.769296366812], [3, 12047.554311090684], [3, 11981.345723381519], [3, 11164.10864939977], [3, 12140.629315577118], [3, 11007.147905735861], [3, 12008.378284572353], [3, 10663.977736967758], [3, 12006.002219461816], [3, 11809.611188635492], [3, 11599.086822705724], [3, 11612.462537875033], [3, 11971.174447559913], [3, 12175.011142779222], [3, 10610.70387455186], [3, 11886.500239950863], [3, 11107.146089985306], [3, 10525.65533253691], [4, 25180.656637347838], [4, 25290.900113124648], [4, 26967.544199457217], [4, 26883.15233253199], [4, 26103.28193128878], [4, 26411.183831756138], [4, 26345.125573498794], [4, 26260.785268528918], [4, 25860.084167616966], [4, 25421.064884792308], [4, 26405.426950714063], [4, 25375.375868635383], [4, 26122.2211288857], [4, 26023.00581555331], [4, 26166.95873820937], [5, 33357.593732214336], [5, 33931.141304429344], [5, 34053.509112009175], [5, 33894.8930796908], [5, 33948.651769617085], [5, 34410.76261503684], [5, 34202.509601429774], [5, 34506.192248957654], [5, 34827.08914503101]]\n"
     ]
    }
   ],
   "source": [
    "vals = vals2\n",
    "print(vals)"
   ]
  },
  {
   "cell_type": "code",
   "execution_count": 377,
   "metadata": {},
   "outputs": [],
   "source": [
    "def calc_Prob(vals):\n",
    "    sumComp = [0, 0, 0, 0, 0]\n",
    "    for x in vals:\n",
    "        sumComp[x[0]-1]+=x[1]\n",
    "    probComp = 0.0\n",
    "    for x in range(5):\n",
    "        probComp += sumComp[x]*riskDivision[x]\n",
    "    return probComp\n",
    "\n",
    "def calcProfit(vals):\n",
    "    sumP = 0.0\n",
    "    for x in vals:\n",
    "        sumP += x[2]*(1/riskDivision[x[0] - 1])\n",
    "    return sumP\n",
    "        \n",
    "def calcThreshold(pool):\n",
    "    sumTh = 0.0\n",
    "    for p in pool:\n",
    "        sumTh += p[1]\n",
    "    return sumTh\n",
    "\n",
    "def calcRisk(pool):\n",
    "    avgR = 0.0\n",
    "    for p in pool:\n",
    "        avgR += riskDivision[p[0]-1]\n",
    "    return avgR/len(pool)"
   ]
  },
  {
   "cell_type": "code",
   "execution_count": 378,
   "metadata": {},
   "outputs": [],
   "source": [
    "pools = [[], [], []]"
   ]
  },
  {
   "cell_type": "code",
   "execution_count": 379,
   "metadata": {},
   "outputs": [],
   "source": [
    "num = 99\n",
    "for x in range(100):\n",
    "    c = random.randint(0, num)\n",
    "    if(x < 3):\n",
    "        premium = vals[c][1]\n",
    "        minPr = minGetback[vals[c][0]-1]*(cover/years)\n",
    "        pr = max(minPr, premium)\n",
    "        if(premium > cover/years):\n",
    "            pr = minPr\n",
    "        vals[c].append(pr)\n",
    "        pools[x].append(vals[c])\n",
    "        vals.remove(vals[c])\n",
    "    else:\n",
    "        minR = calcRisk(pools[0])\n",
    "        minR = minR * len(pools[0]) + riskDivision[vals[c][0]-1]\n",
    "        minR = minR/(len(pools[0])+1)\n",
    "        diff = abs(0.5-minR)\n",
    "        minPC = 0\n",
    "        for p in range(3):\n",
    "            m = calcRisk(pools[p])\n",
    "            m = m * len(pools[p]) + riskDivision[vals[c][0]-1]\n",
    "            m = m/(len(pools[p])+1)\n",
    "            d = abs(0.5-m)\n",
    "            if(d > diff):\n",
    "                diff = d\n",
    "                minPc = p\n",
    "        premium = calcThreshold(pools[p])/len(pools[p])\n",
    "        minPr = minGetback[vals[c][0]-1]*(cover/years)\n",
    "        pr = max(minPr, premium)\n",
    "        if(premium > cover/years):\n",
    "            pr = minPr\n",
    "        vals[c].append(pr)\n",
    "        pools[minPc].append(vals[c])\n",
    "        vals.remove(vals[c])\n",
    "    num -= 1\n",
    "            "
   ]
  },
  {
   "cell_type": "code",
   "execution_count": 389,
   "metadata": {},
   "outputs": [
    {
     "name": "stdout",
     "output_type": "stream",
     "text": [
      "68\n"
     ]
    }
   ],
   "source": [
    "print(len(pools[2]))\n",
    "probComp = calc_Prob(pools[0]) + calc_Prob(pools[1]) + calc_Prob(pools[2])\n",
    "prSum = calcProfit(pools[0]) + calcProfit(pools[1]) + calcProfit(pools[2])"
   ]
  },
  {
   "cell_type": "code",
   "execution_count": 357,
   "metadata": {},
   "outputs": [
    {
     "name": "stdout",
     "output_type": "stream",
     "text": [
      "843479.0292558151\n",
      "1231624.6456744948\n",
      "0.46017221881750037\n"
     ]
    }
   ],
   "source": [
    "print(probComp)\n",
    "print(prSum)\n",
    "print((prSum-probComp)/probComp)"
   ]
  },
  {
   "cell_type": "code",
   "execution_count": 358,
   "metadata": {},
   "outputs": [
    {
     "name": "stdout",
     "output_type": "stream",
     "text": [
      "0.49200000000000005\n"
     ]
    }
   ],
   "source": [
    "avgRisk = 0.0\n",
    "for x in range(5):\n",
    "    avgRisk += riskDivision[x]*numDiv[x]\n",
    "print(avgRisk/100)"
   ]
  },
  {
   "cell_type": "code",
   "execution_count": null,
   "metadata": {},
   "outputs": [],
   "source": [
    "# num = 99\n",
    "# num1 = 1\n",
    "# thresholdSum = 0\n",
    "# prSum = 0\n",
    "# for x in range(100):\n",
    "#     c = random.randint(0, num)\n",
    "#     thresholdSum += vals[c][1]\n",
    "#     premium = thresholdSum/num1\n",
    "#     minPr = minGetback[vals[c][0]-1]*(cover/years)\n",
    "#     pr = max(minPr, premium)\n",
    "#     if(premium > cover/years):\n",
    "#         pr = minPr\n",
    "#     prSum += pr*(1/riskDivision[vals[c][0] - 1])\n",
    "#     vals.remove(vals[c])\n",
    "#     num -= 1\n",
    "#     num1 += 1"
   ]
  },
  {
   "cell_type": "code",
   "execution_count": null,
   "metadata": {},
   "outputs": [],
   "source": []
  }
 ],
 "metadata": {
  "kernelspec": {
   "display_name": "Python 3",
   "language": "python",
   "name": "python3"
  },
  "language_info": {
   "codemirror_mode": {
    "name": "ipython",
    "version": 3
   },
   "file_extension": ".py",
   "mimetype": "text/x-python",
   "name": "python",
   "nbconvert_exporter": "python",
   "pygments_lexer": "ipython3",
   "version": "3.6.7"
  }
 },
 "nbformat": 4,
 "nbformat_minor": 2
}
